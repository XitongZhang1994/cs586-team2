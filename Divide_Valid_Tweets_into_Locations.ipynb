{
 "cells": [
  {
   "cell_type": "code",
   "execution_count": 1,
   "metadata": {
    "collapsed": true
   },
   "outputs": [],
   "source": [
    "interest_loc = ['Boston, MA', 'New York, NY', 'Atlanta, GA','Orlando, FL','Seattle, WA','Portland, OR','San Diego, CA','Phoenix, AZ','St. Louis, MO','Kansas City, KS']"
   ]
  },
  {
   "cell_type": "code",
   "execution_count": 2,
   "metadata": {
    "collapsed": true
   },
   "outputs": [],
   "source": [
    "def loc_from_content(content, loc, file_name):\n",
    "    mode = \"w\"\n",
    "    if os.path.isfile(file_name):\n",
    "        mode = \"a\"\n",
    "    with open(file_name, mode) as text_file:\n",
    "        for line in (content):\n",
    "            d = json.loads(line)\n",
    "            if(d['user']['location'] == loc):\n",
    "                text_file.write(line+'\\n')"
   ]
  },
  {
   "cell_type": "code",
   "execution_count": 3,
   "metadata": {
    "collapsed": false
   },
   "outputs": [],
   "source": [
    "import json,os\n",
    "folder = ['2016-03','2016-07','2016-11']\n",
    "\n",
    "for loc in interest_loc:\n",
    "    for f in folder:\n",
    "        file_ = os.listdir(f)\n",
    "        for json_file in file_:\n",
    "            with open(f+'/'+json_file) as json_data:\n",
    "                content = json_data.read()\n",
    "                content = content.splitlines()\n",
    "                loc_from_content(content, loc, loc+'.json')"
   ]
  },
  {
   "cell_type": "code",
   "execution_count": null,
   "metadata": {
    "collapsed": true
   },
   "outputs": [],
   "source": []
  }
 ],
 "metadata": {
  "kernelspec": {
   "display_name": "Python [conda env:py27]",
   "language": "python",
   "name": "conda-env-py27-py"
  },
  "language_info": {
   "codemirror_mode": {
    "name": "ipython",
    "version": 2
   },
   "file_extension": ".py",
   "mimetype": "text/x-python",
   "name": "python",
   "nbconvert_exporter": "python",
   "pygments_lexer": "ipython2",
   "version": "2.7.13"
  }
 },
 "nbformat": 4,
 "nbformat_minor": 2
}
